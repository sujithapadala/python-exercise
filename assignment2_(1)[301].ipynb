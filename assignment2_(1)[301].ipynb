{
  "nbformat": 4,
  "nbformat_minor": 0,
  "metadata": {
    "colab": {
      "name": "assignment2 (1)[301].ipynb",
      "provenance": [],
      "collapsed_sections": [],
      "include_colab_link": true
    },
    "kernelspec": {
      "name": "python3",
      "display_name": "Python 3"
    },
    "language_info": {
      "name": "python"
    }
  },
  "cells": [
    {
      "cell_type": "markdown",
      "metadata": {
        "id": "view-in-github",
        "colab_type": "text"
      },
      "source": [
        "<a href=\"https://colab.research.google.com/github/sujithapadala/python-exercise/blob/main/assignment2_(1)%5B301%5D.ipynb\" target=\"_parent\"><img src=\"https://colab.research.google.com/assets/colab-badge.svg\" alt=\"Open In Colab\"/></a>"
      ]
    },
    {
      "cell_type": "markdown",
      "source": [
        "###Program to print a specified list after removing the 0th, 4th and 5th elements.\n",
        "####Sample List : ['Red', 'Green', 'White', 'Black', 'Pink', 'Yellow']\n",
        "####Expected Output : ['Green', 'White', 'Black']"
      ],
      "metadata": {
        "id": "HARbV72Yu5lx"
      }
    },
    {
      "cell_type": "code",
      "source": [
        "def color():\n",
        " lists= ['Red', 'Green', 'White', 'Black', 'Pink', 'Yellow']\n",
        " lists.pop(5)\n",
        " lists.pop(4)   #value gets updated\n",
        " lists.pop(0)\n",
        " print(lists)\n",
        "color()"
      ],
      "metadata": {
        "colab": {
          "base_uri": "https://localhost:8080/"
        },
        "id": "Sa_O9LcctJjZ",
        "outputId": "3ecb133f-8c56-4c6c-bae3-986c53b4642b"
      },
      "execution_count": null,
      "outputs": [
        {
          "output_type": "stream",
          "name": "stdout",
          "text": [
            "['Green', 'White', 'Black']\n"
          ]
        }
      ]
    },
    {
      "cell_type": "markdown",
      "source": [
        "## Program to get the difference between the two lists.\n"
      ],
      "metadata": {
        "id": "LG0H2Ebpwobf"
      }
    },
    {
      "cell_type": "code",
      "source": [
        "def diff():\n",
        " li1 = [40, 115, 200, 25, 20, 35, 40]\n",
        " li2 = [25, 40, 35]\n",
        " li3 =set(li1)\n",
        " li4= set(li2)\n",
        " lu5= li3.difference(li4)\n",
        " lu6= list(lu5)\n",
        " print(lu6)\n",
        "diff()"
      ],
      "metadata": {
        "colab": {
          "base_uri": "https://localhost:8080/"
        },
        "id": "hssdtviKxiXA",
        "outputId": "cbe58427-d557-42d0-a8d4-b0d06725ad60"
      },
      "execution_count": null,
      "outputs": [
        {
          "output_type": "stream",
          "name": "stdout",
          "text": [
            "[200, 115, 20]\n"
          ]
        }
      ]
    },
    {
      "cell_type": "markdown",
      "source": [
        "## Program to find the second smallest number and second largest number in a list.\n"
      ],
      "metadata": {
        "id": "jt5AEcyqzp-I"
      }
    },
    {
      "cell_type": "code",
      "source": [
        "def find_len():\n",
        "\tlist1=[69,96,123,3215,9658,7458,85213]\n",
        "\tlength = len(list1)\n",
        "\tlist1.sort()\n",
        "\tprint(\"Second Largest element is:\", list1[length-2])\n",
        "\tprint(\"Second Smallest element is:\", list1[1])\n",
        "find_len()"
      ],
      "metadata": {
        "colab": {
          "base_uri": "https://localhost:8080/"
        },
        "id": "Emo-XGv1zsJ8",
        "outputId": "ba25c13a-2c96-4ed5-a8fe-2bf51b96b0b0"
      },
      "execution_count": null,
      "outputs": [
        {
          "output_type": "stream",
          "name": "stdout",
          "text": [
            "Second Largest element is: 9658\n",
            "Second Smallest element is: 96\n"
          ]
        }
      ]
    },
    {
      "cell_type": "markdown",
      "source": [
        "####Given a list of numbers of list, write a Python program to create a list of tuples having first element as the number and second element as the square of the number."
      ],
      "metadata": {
        "id": "mKhKeOyUz5mL"
      }
    },
    {
      "cell_type": "code",
      "source": [
        "def sq_list():\n",
        "  list1 = [1, 6, 9, 69]\n",
        "  b= len(list1)\n",
        "  for i in range(0,b):\n",
        "   c=list1[i]\n",
        "   a=pow(c,2)\n",
        "   res = (c, a)\n",
        "   print(res)\n",
        "sq_list"
      ],
      "metadata": {
        "id": "iTAhm5d8zyET"
      },
      "execution_count": null,
      "outputs": []
    },
    {
      "cell_type": "markdown",
      "source": [
        "###Given list of tuples, remove all the tuples with length K.\n",
        "###Input : test_list = [(4, 5), (4, ), (8, 6, 7), (1, ), (3, 4, 6, 7)], K = 2\n",
        "###Output : [(4, ), (8, 6, 7), (1, ), (3, 4, 6, 7)]\n",
        "###Explanation : (4, 5) of len = 2 is removed."
      ],
      "metadata": {
        "id": "CEZsLQxL0jbr"
      }
    },
    {
      "cell_type": "code",
      "source": [
        "def len_of_tuples():\n",
        " test_list = [(4, 5), (4, ), (8, 6, 7), (1, ), (3, 4, 6, 7)]\n",
        "\n",
        " print(\"The original list : \" + str(test_list))\n",
        "\n",
        " K = 2\n",
        " res = [ele for ele in test_list if len(ele) != K]\n",
        "\n",
        " print(\"Filtered list : \" + str(res))\n",
        "len_of_tuples"
      ],
      "metadata": {
        "colab": {
          "base_uri": "https://localhost:8080/"
        },
        "id": "N2vM0Xfq0XNw",
        "outputId": "fb1cc735-224f-457c-c1e1-cfe49ea00aee"
      },
      "execution_count": null,
      "outputs": [
        {
          "output_type": "stream",
          "name": "stdout",
          "text": [
            "The original list : [(4, 5), (4,), (8, 6, 7), (1,), (3, 4, 6, 7)]\n",
            "Filtered list : [(4,), (8, 6, 7), (1,), (3, 4, 6, 7)]\n"
          ]
        }
      ]
    },
    {
      "cell_type": "markdown",
      "source": [
        "###Program to generate and print a dictionary that contains a number (between 1\n",
        "and n) in the form (x, x*x).\n",
        "Sample Input: (n=5) :\n",
        "Expected Output : {1: 1, 2: 4, 3: 9, 4: 16, 5: 25}"
      ],
      "metadata": {
        "id": "1eF7cpIL2hIY"
      }
    },
    {
      "cell_type": "code",
      "source": [
        "def sq():\n",
        " n=int(input(\"Enter a number \"))\n",
        " d = dict()\n",
        " for x in range(1,n+1):\n",
        "    d[x]=x*x\n",
        " print(d) \n",
        "sq()"
      ],
      "metadata": {
        "colab": {
          "base_uri": "https://localhost:8080/"
        },
        "id": "1bEr19cg1Az0",
        "outputId": "69f0b3f0-add0-4db9-fd01-54b769c6b7e3"
      },
      "execution_count": null,
      "outputs": [
        {
          "output_type": "stream",
          "name": "stdout",
          "text": [
            "Enter a number 6\n",
            "{1: 1, 2: 4, 3: 9, 4: 16, 5: 25, 6: 36}\n"
          ]
        }
      ]
    },
    {
      "cell_type": "markdown",
      "source": [
        "#### Program to remove a key from a dictionary\n"
      ],
      "metadata": {
        "id": "NJagbfqJ3HPg"
      }
    },
    {
      "cell_type": "code",
      "source": [
        "def removing_keys():\n",
        " diction = {'a':1,'b':2,'c':3,'d':4}\n",
        " print(diction)\n",
        " if 'a' in diction: \n",
        "    del diction['d']\n",
        " print(diction)\n",
        "removing_keys"
      ],
      "metadata": {
        "colab": {
          "base_uri": "https://localhost:8080/"
        },
        "id": "B6BE8U8m2wEc",
        "outputId": "316bbe80-7c8e-433e-c36f-874b3e865fec"
      },
      "execution_count": null,
      "outputs": [
        {
          "output_type": "stream",
          "name": "stdout",
          "text": [
            "{'a': 1, 'b': 2, 'c': 3, 'd': 4}\n",
            "{'a': 1, 'b': 2, 'c': 3}\n"
          ]
        }
      ]
    },
    {
      "cell_type": "markdown",
      "source": [
        "####Program for replacing one substring by another"
      ],
      "metadata": {
        "id": "9ObCiiI98zim"
      }
    },
    {
      "cell_type": "code",
      "source": [
        "def string_replace():\n",
        " string = \"mango, apple, guava, berry\"\n",
        " print(string.replace(\"guava\", \"goa\"))\n",
        "string_replace()"
      ],
      "metadata": {
        "colab": {
          "base_uri": "https://localhost:8080/"
        },
        "id": "qMTHD1gS8kTg",
        "outputId": "41ae0188-e7ae-4f30-adff-426a05633823"
      },
      "execution_count": null,
      "outputs": [
        {
          "output_type": "stream",
          "name": "stdout",
          "text": [
            "mango, apple, goa, berry\n"
          ]
        }
      ]
    },
    {
      "cell_type": "code",
      "source": [
        ""
      ],
      "metadata": {
        "id": "lZkjoCo3LV-8"
      },
      "execution_count": null,
      "outputs": []
    },
    {
      "cell_type": "markdown",
      "source": [
        "### Program to get the maximum and minimum value in a dictionary.\n"
      ],
      "metadata": {
        "id": "Iqwu5qPQVCny"
      }
    },
    {
      "cell_type": "code",
      "source": [
        "def dict_max():\n",
        " Movies = {'master':1200, 'KGF Chapter2':1500, 'Baahubali2' : 1700}\n",
        "\n",
        " res = max(Movies)\n",
        "\n",
        " result = min(Movies)\n",
        " print(res)\n",
        " print(result)\n",
        "dict_max()"
      ],
      "metadata": {
        "colab": {
          "base_uri": "https://localhost:8080/"
        },
        "id": "XfBRZktkVD08",
        "outputId": "d4028789-bc89-4338-ba78-824658116884"
      },
      "execution_count": null,
      "outputs": [
        {
          "output_type": "stream",
          "name": "stdout",
          "text": [
            "master\n",
            "Baahubali2\n"
          ]
        }
      ]
    }
  ]
}