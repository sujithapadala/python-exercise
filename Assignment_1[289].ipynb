{
  "cells": [
    {
      "cell_type": "markdown",
      "metadata": {
        "id": "view-in-github",
        "colab_type": "text"
      },
      "source": [
        "<a href=\"https://colab.research.google.com/github/sujithapadala/python-exercise/blob/main/Assignment_1%5B289%5D.ipynb\" target=\"_parent\"><img src=\"https://colab.research.google.com/assets/colab-badge.svg\" alt=\"Open In Colab\"/></a>"
      ]
    },
    {
      "cell_type": "markdown",
      "metadata": {
        "id": "Ohh_cqBKv1GW"
      },
      "source": [
        "Accept input from user and store it in variable and print the value"
      ]
    },
    {
      "cell_type": "code",
      "execution_count": 5,
      "metadata": {
        "colab": {
          "base_uri": "https://localhost:8080/"
        },
        "id": "HPxzyPdFwBsh",
        "outputId": "57114f7c-b5ed-422b-ec8d-401b1410a6a5"
      },
      "outputs": [
        {
          "output_type": "stream",
          "name": "stdout",
          "text": [
            "8\n",
            "8\n"
          ]
        }
      ],
      "source": [
        "a=input()\n",
        "print(a)"
      ]
    },
    {
      "cell_type": "markdown",
      "metadata": {
        "id": "V0LuzEJK6kqC"
      },
      "source": [
        "Use of print statements and use of (.format )for printing different data types"
      ]
    },
    {
      "cell_type": "code",
      "execution_count": 6,
      "metadata": {
        "colab": {
          "base_uri": "https://localhost:8080/"
        },
        "id": "-cVflovS6pXu",
        "outputId": "7270ec72-3897-43f4-e594-837fa89498b0"
      },
      "outputs": [
        {
          "output_type": "stream",
          "name": "stdout",
          "text": [
            "<class 'float'>\n",
            "9.7\n",
            "<class 'str'>\n",
            "(9.7+0j)\n",
            "<class 'complex'>\n",
            "9\n",
            "<class 'int'>\n",
            "True\n",
            "<class 'bool'>\n"
          ]
        }
      ],
      "source": [
        "a=9.7;\n",
        "print(type(a));\n",
        "#before conversion\n",
        "b=str(a);\n",
        "print(b);\n",
        "print(type(b));\n",
        "#after conversion\n",
        "e=complex(a);\n",
        "print(e);\n",
        "print(type(e));\n",
        "c=int(a);\n",
        "print(c);\n",
        "print(type(c));\n",
        "d=bool(a);\n",
        "print(d);\n",
        "print(type(d));\n"
      ]
    },
    {
      "cell_type": "markdown",
      "metadata": {
        "id": "NiM9r9YMwOLg"
      },
      "source": [
        "Take 2 numbers as user input and add, multiply, divide, subtract, remainder and print the output"
      ]
    },
    {
      "cell_type": "code",
      "execution_count": 14,
      "metadata": {
        "colab": {
          "base_uri": "https://localhost:8080/"
        },
        "id": "7byMni0fwl9X",
        "outputId": "103ef5f0-3ce0-4fc0-b798-a603c6d51d05"
      },
      "outputs": [
        {
          "output_type": "stream",
          "name": "stdout",
          "text": [
            "8\n",
            "4\n",
            "12 32 2.0 4\n"
          ]
        }
      ],
      "source": [
        "A=int(input())\n",
        "B=int(input())\n",
        "sum=A+B\n",
        "multi=A*B\n",
        "div=A/B\n",
        "sub=A-B\n",
        "print(sum,multi,div,sub)"
      ]
    },
    {
      "cell_type": "markdown",
      "metadata": {
        "id": "GHFUZIRQyAeC"
      },
      "source": [
        "Conversion of one unit to another (such as hours to minutes, miles to km and etc)"
      ]
    },
    {
      "cell_type": "code",
      "execution_count": null,
      "metadata": {
        "colab": {
          "base_uri": "https://localhost:8080/"
        },
        "id": "0kyC-670yB0T",
        "outputId": "cad00460-cafd-4894-adfd-ba06a0d955ef"
      },
      "outputs": [
        {
          "name": "stdout",
          "output_type": "stream",
          "text": [
            "10\n",
            "12\n",
            "600 19.31208\n"
          ]
        }
      ],
      "source": [
        "hour=int(input())\n",
        "miles=int(input())\n",
        "min=hour*60\n",
        "km=1.60934*miles\n",
        "print(min,km)"
      ]
    },
    {
      "cell_type": "markdown",
      "source": [
        "Usage of mathematical functions in python like math.ceil, floor, fabs, fmod, trunc,pow, sqrt etc"
      ],
      "metadata": {
        "id": "uEiMxEp-LHgd"
      }
    },
    {
      "cell_type": "code",
      "source": [
        "import math\n",
        "print(math.ceil(9.9))\n",
        "print(math.floor(9.9))\n",
        "print(math.fabs(-40))\n",
        "print(math.fmod(14, 4))\n",
        "print(math.trunc(8.68))\n",
        "x = pow(8, 2)\n",
        "print(x)\n",
        "print (math.sqrt(81))\n",
        "\n"
      ],
      "metadata": {
        "colab": {
          "base_uri": "https://localhost:8080/"
        },
        "id": "NR8JsgL-LQqO",
        "outputId": "401b41f3-7783-4b8a-925f-b4f42ef8bc9d"
      },
      "execution_count": 15,
      "outputs": [
        {
          "output_type": "stream",
          "name": "stdout",
          "text": [
            "10\n",
            "9\n",
            "40.0\n",
            "2.0\n",
            "8\n",
            "64\n",
            "9.0\n"
          ]
        }
      ]
    },
    {
      "cell_type": "markdown",
      "source": [
        "Building a mathematical calculator that can perform operations according to user input."
      ],
      "metadata": {
        "id": "tUj4qz1FNbCR"
      }
    },
    {
      "cell_type": "code",
      "source": [
        "A = float(input(\"Enter 1st number: \"))\n",
        "B = float(input(\"Enter 2nd number: \"))\n",
        "print(\"Operation: +, -, *, /\")\n",
        "select = input(\"Select operations: \")\n",
        "if select == \"+\":\n",
        "    print(A, \"+\", B, \"=\", A+B)\n",
        "elif select == \"-\":\n",
        "    print(A, \"-\", B, \"=\", A-B)\n",
        "elif select == \"*\":\n",
        "    print(A, \"*\", B, \"=\", A*B)\n",
        "elif select == \"/\":\n",
        "    print(A, \"/\", B, \"=\", A/B)\n",
        "else:\n",
        "    print(\"Invalid input\")"
      ],
      "metadata": {
        "colab": {
          "base_uri": "https://localhost:8080/"
        },
        "id": "Qg0DxQTcNc07",
        "outputId": "1ef98163-571d-4bb4-f99f-4241463058ab"
      },
      "execution_count": 16,
      "outputs": [
        {
          "output_type": "stream",
          "name": "stdout",
          "text": [
            "Enter 1st number: 8\n",
            "Enter 2nd number: 6\n",
            "Operation: +, -, *, /\n",
            "Select operations: +\n",
            "8.0 + 6.0 = 14.0\n"
          ]
        }
      ]
    },
    {
      "cell_type": "markdown",
      "metadata": {
        "id": "xRu3bxi-yM4X"
      },
      "source": [
        "Accepting 5 different subject marks from user and displaying the grade of the student"
      ]
    },
    {
      "cell_type": "code",
      "execution_count": 18,
      "metadata": {
        "colab": {
          "base_uri": "https://localhost:8080/"
        },
        "id": "K0rKfaYQyYQ6",
        "outputId": "3c34fc57-5057-4581-f99f-b7c641220cc2"
      },
      "outputs": [
        {
          "output_type": "stream",
          "name": "stdout",
          "text": [
            "40\n",
            "55\n",
            "95\n",
            "66\n",
            "10\n",
            "E\n"
          ]
        }
      ],
      "source": [
        "english=int(input())\n",
        "maths=int(input())\n",
        "science=int(input())\n",
        "chemistry=int(input())\n",
        "social=int(input())\n",
        "total=(english+maths+science+chemistry+social)/5\n",
        "if total > 90:\n",
        "  print(\"A\")\n",
        "elif total > 80 :\n",
        "  print(\"B\")\n",
        "elif total > 70 :\n",
        "  print(\"C\")\n",
        "elif total > 60 :\n",
        "  print(\"D\")    \n",
        "elif total > 50 :\n",
        "  print(\"E\")\n",
        "elif total > 40 :\n",
        "  print(\"F\")"
      ]
    },
    {
      "cell_type": "markdown",
      "metadata": {
        "id": "95c4kYYfylMt"
      },
      "source": [
        "Printing all even numbers, odd numbers, count of even numbers, count of odd numbers within a given range.\n"
      ]
    },
    {
      "cell_type": "code",
      "execution_count": 20,
      "metadata": {
        "colab": {
          "base_uri": "https://localhost:8080/"
        },
        "id": "Zu5du3wly2dA",
        "outputId": "32b5513d-ecf0-45f7-a58a-db8beaa5f36d"
      },
      "outputs": [
        {
          "output_type": "stream",
          "name": "stdout",
          "text": [
            "5\n",
            "15\n",
            "64\n",
            "64\n",
            "64\n",
            "64\n",
            "64\n",
            "64\n",
            "64\n",
            "64\n",
            "64\n",
            "64\n",
            "10\n",
            "0\n"
          ]
        }
      ],
      "source": [
        "X=int(input())\n",
        "Y15\n",
        "=int(input())\n",
        "c=0  #c is count of even numbers\n",
        "o=0 \n",
        "for a in range(X,Y):\n",
        "  if(x%2==0) :\n",
        "    print(x)\n",
        "    c=c+1\n",
        "  elif(x%2!=0) :\n",
        "    print(\"0is odd\",x)\n",
        "    o=o+1\n",
        "print(c)\n",
        "print(o)"
      ]
    },
    {
      "cell_type": "markdown",
      "metadata": {
        "id": "NyiT-iptzCF_"
      },
      "source": [
        "Compute the factorial of a given number"
      ]
    },
    {
      "cell_type": "code",
      "execution_count": null,
      "metadata": {
        "colab": {
          "base_uri": "https://localhost:8080/"
        },
        "id": "pR4gSrkfzX-d",
        "outputId": "3b537ebb-0043-4117-bea5-b976a6b7670c"
      },
      "outputs": [
        {
          "output_type": "stream",
          "name": "stdout",
          "text": [
            "Enter a no: 2\n",
            "The factorial of 2 is 2\n"
          ]
        }
      ],
      "source": [
        "number = int(input(\"Enter a no: \"))    \n",
        "factorial = 1    \n",
        "if number < 0:    \n",
        "   print(\" Factorial does not exist for negative nos\")    \n",
        "elif number == 0:    \n",
        "   print(\"The factorial of 0 is 1\")    \n",
        "else:    \n",
        "   for i in range(1,number + 1):    \n",
        "       factorial = factorial*i    \n",
        "   print(\"The factorial of\",number,\"is\",factorial) "
      ]
    },
    {
      "cell_type": "markdown",
      "source": [
        " Compute GCD of two given numbers"
      ],
      "metadata": {
        "id": "SiKbJ2gVPrnx"
      }
    },
    {
      "cell_type": "code",
      "source": [
        "X =int(input(\"Enter a no: \")) \n",
        "Y =int(input(\"Enter a no: \"))\n",
        "if X > Y:\n",
        "  X, Y = Y, X\n",
        "for i in range(1,X+1):\n",
        "  if X%i == 0 and Y%i == 0:\n",
        "    gcd = i\n",
        "\n",
        "print(\"GCD of\", X, \"and\", Y, \"is:\", gcd)"
      ],
      "metadata": {
        "colab": {
          "base_uri": "https://localhost:8080/"
        },
        "id": "qsmmgDLFPu32",
        "outputId": "ff268aa3-b880-4ef8-efa4-a3a186e25898"
      },
      "execution_count": 21,
      "outputs": [
        {
          "output_type": "stream",
          "name": "stdout",
          "text": [
            "Enter a no: 2\n",
            "Enter a no: 8\n",
            "GCD of 2 and 8 is: 2\n"
          ]
        }
      ]
    },
    {
      "cell_type": "markdown",
      "metadata": {
        "id": "pZ0htDCQ1-fS"
      },
      "source": [
        "Generate Fibonacci series up to N numbers\n"
      ]
    },
    {
      "cell_type": "code",
      "execution_count": 25,
      "metadata": {
        "colab": {
          "base_uri": "https://localhost:8080/"
        },
        "id": "ZlydqOlY2AQk",
        "outputId": "444dbb4d-e359-43d0-c22c-b81574db0d99"
      },
      "outputs": [
        {
          "output_type": "stream",
          "name": "stdout",
          "text": [
            "8\n",
            "Fibonacci sequence:\n",
            "0\n",
            "1\n",
            "1\n",
            "2\n",
            "3\n",
            "5\n",
            "8\n",
            "13\n"
          ]
        }
      ],
      "source": [
        "Z = int(input())\n",
        "num1, num2 = 0, 1\n",
        "c = 0\n",
        "print(\"Fibonacci sequence:\")\n",
        "while c < Z:\n",
        "       print(num1)\n",
        "       Zth = num1 + num2\n",
        "       num1 = num2\n",
        "       num2 = Zth\n",
        "       c += 1"
      ]
    },
    {
      "cell_type": "markdown",
      "metadata": {
        "id": "YL4tpm-O2XjZ"
      },
      "source": [
        "Check whether the given input is  palindrome "
      ]
    },
    {
      "cell_type": "code",
      "execution_count": 27,
      "metadata": {
        "colab": {
          "base_uri": "https://localhost:8080/"
        },
        "id": "PSSITPCf2hBU",
        "outputId": "82d9f1ac-2da7-46df-8e60-a3088b68d56a"
      },
      "outputs": [
        {
          "output_type": "stream",
          "name": "stdout",
          "text": [
            "Enter a nober:8\n",
            "It is a palindrome!\n"
          ]
        }
      ],
      "source": [
        "suji=int(input(\"Enter a nober:\"))\n",
        "a=suji\n",
        "reverse=0\n",
        "while(suji>0):\n",
        "    dgiit=suji%10\n",
        "    reverse=reverse*10+dgiit\n",
        "    suji=suji//10\n",
        "if(a==reverse):\n",
        "    print(\"It is a palindrome!\")\n",
        "else:\n",
        "    print(\"Not a palindrome!\")"
      ]
    },
    {
      "cell_type": "markdown",
      "metadata": {
        "id": "dhteK1kJ3BrM"
      },
      "source": [
        "Check whether the given input is strong"
      ]
    },
    {
      "cell_type": "code",
      "execution_count": 30,
      "metadata": {
        "colab": {
          "base_uri": "https://localhost:8080/"
        },
        "id": "7tdOBo_P3HeA",
        "outputId": "50f8ad1c-9b0b-4af9-c945-a46f95b13dfe"
      },
      "outputs": [
        {
          "output_type": "stream",
          "name": "stdout",
          "text": [
            "Enter a number:85\n",
            "The number is not a strong number\n"
          ]
        }
      ],
      "source": [
        "num=int(input(\"Enter a number:\"))\n",
        "sum=0\n",
        "act=num\n",
        "while(num):\n",
        "    i=1\n",
        "    f=1\n",
        "    r=num%10\n",
        "    while(i<=r):\n",
        "        f=f*i\n",
        "        i=i+1\n",
        "    sum=sum+f\n",
        "    num=num//10\n",
        "if(sum==act):\n",
        "    print(\"The number is a strong number\")\n",
        "else:\n",
        "    print(\"The number is not a strong number\")"
      ]
    },
    {
      "cell_type": "markdown",
      "metadata": {
        "id": "ndZSdybr3hCH"
      },
      "source": [
        "Check whether the given input is perfect"
      ]
    },
    {
      "cell_type": "code",
      "execution_count": 28,
      "metadata": {
        "colab": {
          "base_uri": "https://localhost:8080/"
        },
        "id": "I9OTZdL13p2G",
        "outputId": "f4219faa-942c-4800-9ab5-f0e9781a4bd6"
      },
      "outputs": [
        {
          "output_type": "stream",
          "name": "stdout",
          "text": [
            "Enter a number:5\n",
            "not a Perfect nober\n"
          ]
        }
      ],
      "source": [
        "x=int(input(\"Enter a number:\"))\n",
        "s=0\n",
        "for i in range(1, x):\n",
        "    if(X % i == 0):\n",
        "        s = s + i\n",
        "if (s == x):\n",
        "    print(\"Perfect nober\")\n",
        "else:\n",
        "    print(\"not a Perfect nober\")"
      ]
    },
    {
      "cell_type": "markdown",
      "source": [
        "Compute compound interest using loop for a certain principal and interest amount"
      ],
      "metadata": {
        "id": "1Z1FjNk3OFS6"
      }
    },
    {
      "cell_type": "code",
      "source": [
        "x=int(input(\"principle amount:\"))\n",
        "rate=int(input(\"rate:\"))\n",
        "years=int(input(\"number of years:\"))\n",
        "for i in range(years):\n",
        "    x=x+((x*rate)/100)\n",
        "print(x)"
      ],
      "metadata": {
        "colab": {
          "base_uri": "https://localhost:8080/"
        },
        "id": "aEdAFzTTOL-M",
        "outputId": "b3457a12-56fb-406a-ace6-d868b342c444"
      },
      "execution_count": 29,
      "outputs": [
        {
          "output_type": "stream",
          "name": "stdout",
          "text": [
            "principle amount:555\n",
            "rate:5\n",
            "number of years:2\n",
            "611.8875\n"
          ]
        }
      ]
    }
  ],
  "metadata": {
    "colab": {
      "name": "Assignment_1[289].ipynb",
      "provenance": [],
      "include_colab_link": true
    },
    "kernelspec": {
      "display_name": "Python 3",
      "name": "python3"
    },
    "language_info": {
      "name": "python"
    }
  },
  "nbformat": 4,
  "nbformat_minor": 0
}