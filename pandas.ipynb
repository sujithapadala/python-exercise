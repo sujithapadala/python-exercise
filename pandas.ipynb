{
  "nbformat": 4,
  "nbformat_minor": 0,
  "metadata": {
    "colab": {
      "name": "pandas",
      "provenance": [],
      "authorship_tag": "ABX9TyMn+Hg/XeHxS0j/UAwJBtVf",
      "include_colab_link": true
    },
    "kernelspec": {
      "name": "python3",
      "display_name": "Python 3"
    },
    "language_info": {
      "name": "python"
    }
  },
  "cells": [
    {
      "cell_type": "markdown",
      "metadata": {
        "id": "view-in-github",
        "colab_type": "text"
      },
      "source": [
        "<a href=\"https://colab.research.google.com/github/sujithapadala/python-exercise/blob/main/pandas.ipynb\" target=\"_parent\"><img src=\"https://colab.research.google.com/assets/colab-badge.svg\" alt=\"Open In Colab\"/></a>"
      ]
    },
    {
      "cell_type": "code",
      "execution_count": 5,
      "metadata": {
        "colab": {
          "base_uri": "https://localhost:8080/"
        },
        "id": "OgDF6GctCld2",
        "outputId": "572ea743-22b4-49a2-ee41-da9990dadb37"
      },
      "outputs": [
        {
          "output_type": "stream",
          "name": "stdout",
          "text": [
            "0    1\n",
            "1    7\n",
            "2    2\n",
            "3    3\n",
            "dtype: int64\n"
          ]
        }
      ],
      "source": [
        "import pandas as pd\n",
        "\n",
        "a = [1, 7, 2, 3]\n",
        "\n",
        "suji = pd.Series(a)\n",
        "\n",
        "print(suji)\n"
      ]
    },
    {
      "cell_type": "code",
      "source": [
        "import pandas as pd\n",
        "\n",
        "a = [1, 7, 2]\n",
        "\n",
        "myvar = pd.Series(a, index = [\"x\", \"y\", \"z\"])\n",
        "\n",
        "print(myvar)"
      ],
      "metadata": {
        "colab": {
          "base_uri": "https://localhost:8080/"
        },
        "id": "NsJkl2P4EOJj",
        "outputId": "b78ab8c0-5f19-4565-cf0f-731fddb57ae3"
      },
      "execution_count": 9,
      "outputs": [
        {
          "output_type": "stream",
          "name": "stdout",
          "text": [
            "x    1\n",
            "y    7\n",
            "z    2\n",
            "dtype: int64\n"
          ]
        }
      ]
    }
  ]
}