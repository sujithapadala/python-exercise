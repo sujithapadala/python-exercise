{
  "nbformat": 4,
  "nbformat_minor": 0,
  "metadata": {
    "colab": {
      "name": "26_04_22_asmt.ipynb",
      "provenance": [],
      "collapsed_sections": [],
      "include_colab_link": true
    },
    "kernelspec": {
      "name": "python3",
      "display_name": "Python 3"
    },
    "language_info": {
      "name": "python"
    }
  },
  "cells": [
    {
      "cell_type": "markdown",
      "metadata": {
        "id": "view-in-github",
        "colab_type": "text"
      },
      "source": [
        "<a href=\"https://colab.research.google.com/github/sujithapadala/python-exercise/blob/main/26_04_22_asmt.ipynb\" target=\"_parent\"><img src=\"https://colab.research.google.com/assets/colab-badge.svg\" alt=\"Open In Colab\"/></a>"
      ]
    },
    {
      "cell_type": "markdown",
      "source": [
        "1.To print odd no in given range"
      ],
      "metadata": {
        "id": "7FSBjOAGdqh-"
      }
    },
    {
      "cell_type": "code",
      "source": [
        "a=int(input())\n",
        "b=int(input())\n",
        "for i in range(a,b):\n",
        "  if i%2!=0:\n",
        "    print(i)\n"
      ],
      "metadata": {
        "colab": {
          "base_uri": "https://localhost:8080/"
        },
        "id": "KxSUjY6ud1js",
        "outputId": "dff1090e-fb39-4ce5-829d-87780d23546a"
      },
      "execution_count": 1,
      "outputs": [
        {
          "output_type": "stream",
          "name": "stdout",
          "text": [
            "5\n",
            "8\n",
            "5\n",
            "7\n"
          ]
        }
      ]
    },
    {
      "cell_type": "markdown",
      "source": [
        "2.To print prime no in given range"
      ],
      "metadata": {
        "id": "HTi4jmK5ecMm"
      }
    },
    {
      "cell_type": "code",
      "source": [
        "17def prime(a,b):\n",
        "  for i in range(a,b):\n",
        "    k=0\n",
        "    for j in range(1,i):\n",
        "      if i%j==0:\n",
        "        k+=1\n",
        "    if k==1:\n",
        "      print(i)\n",
        "prime(int(input()),int(input()))\n",
        "\n"
      ],
      "metadata": {
        "colab": {
          "base_uri": "https://localhost:8080/"
        },
        "id": "uNLUzEp6ei3N",
        "outputId": "3269b1d7-50cd-4ac5-9d52-8567164901af"
      },
      "execution_count": 3,
      "outputs": [
        {
          "output_type": "stream",
          "name": "stdout",
          "text": [
            "5\n",
            "17\n",
            "5\n",
            "7\n",
            "11\n",
            "13\n"
          ]
        }
      ]
    },
    {
      "cell_type": "markdown",
      "source": [
        "3.TO PRINT no of days in a month"
      ],
      "metadata": {
        "id": "p6UFvsEYfNEu"
      }
    },
    {
      "cell_type": "code",
      "source": [
        "mon=int(input())\n",
        "if mon==1 or mon==3 or mon==5 or mon==7 or mon==8 or mon==10 or mon==12:\n",
        "  print(\"31\") \n",
        "elif mon==4 or mon==6 or mon==9 or mon==8 or mon==11 : \n",
        "    print(\"30\") \n",
        "elif mon==2: \n",
        "    print(\"28\")    \n",
        "else:\n",
        "  print(\"not found\")    \n"
      ],
      "metadata": {
        "colab": {
          "base_uri": "https://localhost:8080/"
        },
        "id": "j-8XnMR3fW3l",
        "outputId": "c66ec3eb-97ca-4bad-b456-2277f16df4c7"
      },
      "execution_count": 4,
      "outputs": [
        {
          "output_type": "stream",
          "name": "stdout",
          "text": [
            "15\n",
            "not found\n"
          ]
        }
      ]
    },
    {
      "cell_type": "markdown",
      "source": [
        "4.To print even length"
      ],
      "metadata": {
        "id": "QmV7A7Hnk822"
      }
    },
    {
      "cell_type": "code",
      "source": [
        "word=str(input())\n",
        "word=word.split(' ')\n",
        "for a in word:\n",
        "  if len(a)%2==0:\n",
        "    print(a) \n",
        "\n"
      ],
      "metadata": {
        "colab": {
          "base_uri": "https://localhost:8080/"
        },
        "id": "r-v7yrqok9f_",
        "outputId": "59bbc992-f44a-43d3-9ad9-86bf0b8ea571"
      },
      "execution_count": 12,
      "outputs": [
        {
          "output_type": "stream",
          "name": "stdout",
          "text": [
            "suji\n",
            "suji\n"
          ]
        }
      ]
    },
    {
      "cell_type": "markdown",
      "source": [
        "5.To print 1st and last capital\n"
      ],
      "metadata": {
        "id": "0iMJTKFwmfof"
      }
    },
    {
      "cell_type": "code",
      "source": [
        "String = input('')\n",
        "String = String[0:1].upper() + String[1:len(String)-1] + String[len(String)-1:len(String)].upper()\n",
        "print(String)"
      ],
      "metadata": {
        "id": "D5alO1sdm6f2",
        "colab": {
          "base_uri": "https://localhost:8080/"
        },
        "outputId": "c025303e-2754-4f67-b839-6979c26834b9"
      },
      "execution_count": 6,
      "outputs": [
        {
          "output_type": "stream",
          "name": "stdout",
          "text": [
            "suji\n",
            "SujI\n"
          ]
        }
      ]
    },
    {
      "cell_type": "markdown",
      "source": [
        "6.To convert multiple integers to single integers"
      ],
      "metadata": {
        "id": "SmntpseOpP2A"
      }
    },
    {
      "cell_type": "code",
      "source": [
        "a=[11,14,18,17]\n",
        "for i in a:\n",
        "  print(i,end=\"\")"
      ],
      "metadata": {
        "colab": {
          "base_uri": "https://localhost:8080/"
        },
        "id": "OmrDt4WDpYvX",
        "outputId": "3c83a176-2bd8-4569-d6ab-dd91267f8a04"
      },
      "execution_count": 7,
      "outputs": [
        {
          "output_type": "stream",
          "name": "stdout",
          "text": [
            "11141817"
          ]
        }
      ]
    },
    {
      "cell_type": "markdown",
      "source": [
        "7.Write a program to print power of no "
      ],
      "metadata": {
        "id": "pKiUdZ41KA9p"
      }
    },
    {
      "cell_type": "code",
      "source": [
        "a=int(input())\n",
        "b=int(input())\n",
        "c=pow(a,b)\n",
        "c"
      ],
      "metadata": {
        "colab": {
          "base_uri": "https://localhost:8080/"
        },
        "id": "ASSK20o5KIip",
        "outputId": "65865dba-99d8-49de-e8fd-82dfca5c1527"
      },
      "execution_count": 13,
      "outputs": [
        {
          "name": "stdout",
          "output_type": "stream",
          "text": [
            "8\n",
            "10\n"
          ]
        },
        {
          "output_type": "execute_result",
          "data": {
            "text/plain": [
              "1073741824"
            ]
          },
          "metadata": {},
          "execution_count": 13
        }
      ]
    },
    {
      "cell_type": "markdown",
      "source": [
        "8.To sort tupple by total digits input\n",
        "list=[(4,3,5,863),(9,2)(154,284,43)]\n",
        "\n",
        "*   List item\n",
        "*   List item\n",
        "\n"
      ],
      "metadata": {
        "id": "kwnxuyqDKJOR"
      }
    },
    {
      "cell_type": "markdown",
      "source": [
        ""
      ],
      "metadata": {
        "id": "XbFqDmZEKXXq"
      }
    },
    {
      "cell_type": "code",
      "source": [
        "list=[(4,3,5,863),(9,2),(154,284,43)]\n",
        "list.sort()\n",
        "print(list)"
      ],
      "metadata": {
        "id": "w1pUqyZuKXtS",
        "colab": {
          "base_uri": "https://localhost:8080/"
        },
        "outputId": "34199b86-545d-4776-c81d-0d5199103fad"
      },
      "execution_count": 14,
      "outputs": [
        {
          "output_type": "stream",
          "name": "stdout",
          "text": [
            "[(4, 3, 5, 863), (9, 2), (154, 284, 43)]\n"
          ]
        }
      ]
    },
    {
      "cell_type": "markdown",
      "source": [
        "9.Take 5 subject marks from student and display the grade of student"
      ],
      "metadata": {
        "id": "VhbKtR-lKrlr"
      }
    },
    {
      "cell_type": "code",
      "source": [
        "s1=int(input())\n",
        "s2=int(input())\n",
        "s3=int(input())\n",
        "s4=int(input())\n",
        "s5=int(input())\n",
        "avg=(s1+s2+s3+s4+s5)/5\n",
        "if avg>90:\n",
        "  print(\"A+\")\n",
        "elif 80<avg<90:\n",
        "  print(\"A\") \n",
        "elif 70<avg<80:\n",
        "  print(\"B\") \n",
        "elif 60<avg<70:\n",
        "  print(\"C\") \n",
        "elif 50<avg<60:\n",
        "  print(\"D\") \n",
        "elif 40<avg<50:\n",
        "  print(\"E\")    \n",
        "else:\n",
        "  print(\"F\")        "
      ],
      "metadata": {
        "id": "3o_dwdfgLHzR",
        "colab": {
          "base_uri": "https://localhost:8080/"
        },
        "outputId": "040ca53a-25ff-4e76-bfbb-bb0da58e14ad"
      },
      "execution_count": 15,
      "outputs": [
        {
          "output_type": "stream",
          "name": "stdout",
          "text": [
            "85\n",
            "45\n",
            "33\n",
            "25\n",
            "66\n",
            "D\n"
          ]
        }
      ]
    },
    {
      "cell_type": "markdown",
      "source": [
        "10.Write a python program that prints 1 if all no are in ascending order"
      ],
      "metadata": {
        "id": "EBIJ58-VLIS6"
      }
    },
    {
      "cell_type": "code",
      "source": [
        "a=int(input())\n",
        "b=int(input())\n",
        "c=int(input())\n",
        "if a<b<c :\n",
        "  print(\"1\")\n",
        "else:\n",
        "  print(\"0\")  "
      ],
      "metadata": {
        "id": "vX2qflO-LoA6",
        "colab": {
          "base_uri": "https://localhost:8080/"
        },
        "outputId": "e6cbc577-91d8-45b3-dd79-c4dcac07e752"
      },
      "execution_count": 18,
      "outputs": [
        {
          "output_type": "stream",
          "name": "stdout",
          "text": [
            "8\n",
            "7\n",
            "6\n",
            "0\n"
          ]
        }
      ]
    },
    {
      "cell_type": "markdown",
      "source": [
        "11.Check give no is perfect or not"
      ],
      "metadata": {
        "id": "dTXqobNkLoKZ"
      }
    },
    {
      "cell_type": "code",
      "source": [
        "n = int(input())\n",
        "sum = 0\n",
        "for i in range(1, n):\n",
        "    if(n % i == 0):\n",
        "        sum = sum + i\n",
        "if (sum == n):\n",
        "    print(\"The number is a Perfect number\")\n",
        "else:\n",
        "    print(\"The number is not a Perfect number\")"
      ],
      "metadata": {
        "id": "zQfqedKvMH0p",
        "colab": {
          "base_uri": "https://localhost:8080/"
        },
        "outputId": "0ef29b85-39a0-489d-896a-d3def471ea9f"
      },
      "execution_count": 19,
      "outputs": [
        {
          "output_type": "stream",
          "name": "stdout",
          "text": [
            "49\n",
            "The number is not a Perfect number\n"
          ]
        }
      ]
    },
    {
      "cell_type": "markdown",
      "source": [
        "12.Find Gcd of given no with and without recrusion"
      ],
      "metadata": {
        "id": "Nc5xlRwyMIOR"
      }
    },
    {
      "cell_type": "code",
      "source": [
        "def gcd(a,b):\n",
        "    if(b==0):\n",
        "        return a\n",
        "    else:\n",
        "        return gcd(b,a%b)\n",
        "a=int(input(\"Enter first number:\"))\n",
        "b=int(input(\"Enter second number:\"))\n",
        "GCD=gcd(a,b)\n",
        "print(\"GCD is: \")\n",
        "print(GCD)                "
      ],
      "metadata": {
        "id": "HAgCEC72MqH6",
        "colab": {
          "base_uri": "https://localhost:8080/"
        },
        "outputId": "81984ef0-4ffb-4910-b467-498f0703feee"
      },
      "execution_count": 20,
      "outputs": [
        {
          "output_type": "stream",
          "name": "stdout",
          "text": [
            "Enter first number:85\n",
            "Enter second number:95\n",
            "GCD is: \n",
            "5\n"
          ]
        }
      ]
    },
    {
      "cell_type": "markdown",
      "source": [
        "13.print sum of even digits in a no"
      ],
      "metadata": {
        "id": "Q6ObtiEFMqX7"
      }
    },
    {
      "cell_type": "code",
      "source": [
        "a=str(input())\n",
        "sum=0\n",
        "for i in a:\n",
        "  if int(i)%2==0:\n",
        "    sum=sum+int(i)\n",
        "print(sum)"
      ],
      "metadata": {
        "id": "TFxpynm7N1UT",
        "colab": {
          "base_uri": "https://localhost:8080/"
        },
        "outputId": "41c33146-7c0e-42f3-d52c-337c22d45fec"
      },
      "execution_count": 21,
      "outputs": [
        {
          "output_type": "stream",
          "name": "stdout",
          "text": [
            "5\n",
            "0\n"
          ]
        }
      ]
    },
    {
      "cell_type": "markdown",
      "source": [
        "14.Calculate the  sum of squares of digits of a no."
      ],
      "metadata": {
        "id": "Cy1CTHf_M_pa"
      }
    },
    {
      "cell_type": "code",
      "source": [
        "num = int(input())\n",
        "sum = 0\n",
        "while num!=0:\n",
        "    rem = num%10\n",
        "    sqr = rem*rem\n",
        "    sum = sum+sqr\n",
        "    num = int(num/10)\n",
        "print(sum)"
      ],
      "metadata": {
        "id": "685Xb0-xNWSh",
        "colab": {
          "base_uri": "https://localhost:8080/"
        },
        "outputId": "e21695d1-262a-4a2c-b56a-a19d96afb4b7"
      },
      "execution_count": 22,
      "outputs": [
        {
          "output_type": "stream",
          "name": "stdout",
          "text": [
            "5\n",
            "25\n"
          ]
        }
      ]
    },
    {
      "cell_type": "markdown",
      "source": [
        "15.given a string is s=abcdefcba how many times i "
      ],
      "metadata": {
        "id": "1bw2Cbw4NWrh"
      }
    },
    {
      "cell_type": "code",
      "source": [
        "a=str(input())\n",
        "b=a[::-1]\n",
        "l=int((len(a)/2))\n",
        "c=0\n",
        "for i in range(0,l):\n",
        "  if a[i]==b[i]:\n",
        "    c=c+1\n",
        "print(c)"
      ],
      "metadata": {
        "colab": {
          "base_uri": "https://localhost:8080/"
        },
        "id": "uhK6gZ6eN2AB",
        "outputId": "556be36d-505b-4414-bcf8-c5e5c034d203"
      },
      "execution_count": 23,
      "outputs": [
        {
          "output_type": "stream",
          "name": "stdout",
          "text": [
            "5\n",
            "0\n"
          ]
        }
      ]
    },
    {
      "cell_type": "markdown",
      "source": [
        "16.print count front back matches"
      ],
      "metadata": {
        "id": "CQuJqOUJN2Jh"
      }
    },
    {
      "cell_type": "code",
      "source": [
        "a=str(input())\n",
        "b=a[::-1]\n",
        "l=int((len(a)/2))\n",
        "c=0\n",
        "for i in range(0,l):\n",
        "  if a[i]==b[i]:\n",
        "    c=c+1\n",
        "print(c)"
      ],
      "metadata": {
        "colab": {
          "base_uri": "https://localhost:8080/"
        },
        "id": "MgAoHpfmOmNq",
        "outputId": "2126f88a-68c7-4b6e-c83c-ec50cfca4103"
      },
      "execution_count": 24,
      "outputs": [
        {
          "output_type": "stream",
          "name": "stdout",
          "text": [
            "5\n",
            "0\n"
          ]
        }
      ]
    },
    {
      "cell_type": "markdown",
      "source": [
        "17.repeat the n no for n times [1,5,5,3,3,3,8,8,8,8]"
      ],
      "metadata": {
        "id": "uDwW0xWAOmYz"
      }
    },
    {
      "cell_type": "code",
      "source": [
        "n=int(input())\n",
        "a=0\n",
        "for x in range(0,n):\n",
        "  if a<x:\n",
        "   print(x*x)\n",
        "  "
      ],
      "metadata": {
        "id": "hYwXTFsTOzbC",
        "colab": {
          "base_uri": "https://localhost:8080/"
        },
        "outputId": "40ff41d7-370e-4daa-9b25-8c20531fd3ce"
      },
      "execution_count": 25,
      "outputs": [
        {
          "output_type": "stream",
          "name": "stdout",
          "text": [
            "8\n",
            "1\n",
            "4\n",
            "9\n",
            "16\n",
            "25\n",
            "36\n",
            "49\n"
          ]
        }
      ]
    },
    {
      "cell_type": "markdown",
      "source": [
        "18.print no of vowels and consonants"
      ],
      "metadata": {
        "id": "HEaSMf7qOzqK"
      }
    },
    {
      "cell_type": "code",
      "source": [
        "a=input()\n",
        "v=0\n",
        "c=0\n",
        "for i in a:\n",
        "  if i=='a' or i=='e' or i=='o'or i=='u'or i=='i':\n",
        "    v+=1\n",
        "  else:\n",
        "    c+=1\n",
        "print(v)\n",
        "print(c)\n",
        "\n",
        "\n"
      ],
      "metadata": {
        "colab": {
          "base_uri": "https://localhost:8080/"
        },
        "id": "4xPlyVs3PXji",
        "outputId": "9f5788d9-70ba-4d9f-a8d4-ee2703397c73"
      },
      "execution_count": 26,
      "outputs": [
        {
          "output_type": "stream",
          "name": "stdout",
          "text": [
            "sujitha\n",
            "3\n",
            "4\n"
          ]
        }
      ]
    },
    {
      "cell_type": "markdown",
      "source": [
        "19.given two integers A and B .if  a<b print all no in ascending or else in descending"
      ],
      "metadata": {
        "id": "LJlGHGwMPXvi"
      }
    },
    {
      "cell_type": "code",
      "source": [
        "\n",
        "a=int(input())\n",
        "b=int(input())\n",
        "if a<b:\n",
        "  for i in range(a,b):\n",
        "    print(i)\n",
        "else:\n",
        "  for i in range(a,b,-1):\n",
        "    print(i)    "
      ],
      "metadata": {
        "colab": {
          "base_uri": "https://localhost:8080/"
        },
        "id": "emxTzfKnPr_S",
        "outputId": "27243683-7971-452c-cd0c-b69f60d6982b"
      },
      "execution_count": 28,
      "outputs": [
        {
          "output_type": "stream",
          "name": "stdout",
          "text": [
            "8\n",
            "5\n",
            "8\n",
            "7\n",
            "6\n"
          ]
        }
      ]
    },
    {
      "cell_type": "markdown",
      "source": [
        "20.fin max of 3 no\n"
      ],
      "metadata": {
        "id": "dSdX1TAePsOL"
      }
    },
    {
      "cell_type": "code",
      "source": [
        "a=int(input())\n",
        "b=int(input())\n",
        "c=int(input())\n",
        "if (a >= b) and (a >= c):\n",
        "   largest = a\n",
        "elif (b >= a) and (b >= c):\n",
        "   largest = b\n",
        "else:\n",
        "   largest = c\n",
        "\n",
        "print(\"The largest number is\", largest)"
      ],
      "metadata": {
        "id": "v9cQedUPPu-S",
        "colab": {
          "base_uri": "https://localhost:8080/"
        },
        "outputId": "a5919678-9227-4b2e-c3cf-4413086e0f15"
      },
      "execution_count": 29,
      "outputs": [
        {
          "output_type": "stream",
          "name": "stdout",
          "text": [
            "58\n",
            "48\n",
            "75\n",
            "The largest number is 75\n"
          ]
        }
      ]
    },
    {
      "cell_type": "markdown",
      "source": [
        "21.write a program to count no of strings where the string length is 2 or more and 1st and last is same\n",
        " "
      ],
      "metadata": {
        "id": "Uex3RWOWPvE0"
      }
    },
    {
      "cell_type": "code",
      "source": [
        "def match(words):\n",
        "  d=0\n",
        "  for x in words:\n",
        "    if len(word) > 1 and x[0] == x[-1]:\n",
        "      d+=1\n",
        "  return d\n",
        "  print(match(['abc','xyz','aba','1221']))\n"
      ],
      "metadata": {
        "id": "o2beqMceQi6x"
      },
      "execution_count": 31,
      "outputs": []
    },
    {
      "cell_type": "markdown",
      "source": [
        "22.days as input,no of round trips ,cal the tot distance if tot dis is <40000m print need  to work hard"
      ],
      "metadata": {
        "id": "9VZDNKCtQjFx"
      }
    },
    {
      "cell_type": "code",
      "source": [
        "days=int(input())\n",
        "no=int(input(\"enter no of meters\"))\n",
        "dis=days*no\n",
        "if dis<40000:\n",
        "  print(\"need to work more\")\n",
        "else:\n",
        "  print(\"well done\")  "
      ],
      "metadata": {
        "id": "4mUOOef8RdxU",
        "colab": {
          "base_uri": "https://localhost:8080/"
        },
        "outputId": "950fac1d-0ba0-4c2a-e69f-3d1db5f0d982"
      },
      "execution_count": 32,
      "outputs": [
        {
          "output_type": "stream",
          "name": "stdout",
          "text": [
            "456\n",
            "enter no of meters879\n",
            "well done\n"
          ]
        }
      ]
    },
    {
      "cell_type": "markdown",
      "source": [
        "23.given a list of students names i l and a charcter and display the names whose name are given in capital. "
      ],
      "metadata": {
        "id": "gIYuCLFmR5KF"
      }
    },
    {
      "cell_type": "code",
      "source": [
        "test_str =['cello','Cello']\n",
        "print(\"The original string is : \" + str(test_str))\n",
        "for ele in test_str:\n",
        "   if ele.isupper():\n",
        "     print(ele)"
      ],
      "metadata": {
        "id": "bTjfxup-Sdw7",
        "colab": {
          "base_uri": "https://localhost:8080/"
        },
        "outputId": "d776c66f-560b-42b5-cbc1-15e99df1ad2e"
      },
      "execution_count": 34,
      "outputs": [
        {
          "output_type": "stream",
          "name": "stdout",
          "text": [
            "The original string is : ['cello', 'Cello']\n"
          ]
        }
      ]
    },
    {
      "cell_type": "markdown",
      "source": [
        "24.given a list of city names whose len is greater than given len\n",
        "['hyderabad','Mumbai','vizag']"
      ],
      "metadata": {
        "id": "iGMDXsG0Sd5U"
      }
    },
    {
      "cell_type": "code",
      "source": [
        "list=['hyderabad','Mumbai','vizag']\n",
        "l=int(input())\n",
        "for x in list:\n",
        "  if len(x)>l:\n",
        "    print(x)"
      ],
      "metadata": {
        "id": "W2YhghJVTDeX",
        "colab": {
          "base_uri": "https://localhost:8080/"
        },
        "outputId": "b009ac35-71d3-4d0e-d08a-527769284470"
      },
      "execution_count": 39,
      "outputs": [
        {
          "output_type": "stream",
          "name": "stdout",
          "text": [
            "8\n",
            "hyderabad\n"
          ]
        }
      ]
    }
  ]
}