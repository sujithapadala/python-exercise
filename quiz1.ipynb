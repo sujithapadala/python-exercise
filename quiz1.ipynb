{
  "nbformat": 4,
  "nbformat_minor": 0,
  "metadata": {
    "colab": {
      "name": "quiz1",
      "provenance": [],
      "authorship_tag": "ABX9TyPj3TVXu+R1XSpPi+9q8sPy",
      "include_colab_link": true
    },
    "kernelspec": {
      "name": "python3",
      "display_name": "Python 3"
    },
    "language_info": {
      "name": "python"
    }
  },
  "cells": [
    {
      "cell_type": "markdown",
      "metadata": {
        "id": "view-in-github",
        "colab_type": "text"
      },
      "source": [
        "<a href=\"https://colab.research.google.com/github/sujithapadala/python-exercise/blob/main/quiz1.ipynb\" target=\"_parent\"><img src=\"https://colab.research.google.com/assets/colab-badge.svg\" alt=\"Open In Colab\"/></a>"
      ]
    },
    {
      "cell_type": "code",
      "execution_count": 2,
      "metadata": {
        "colab": {
          "base_uri": "https://localhost:8080/"
        },
        "id": "fFm7fFzwiWL7",
        "outputId": "74bead04-3340-42d0-f344-5f6db854fff4"
      },
      "outputs": [
        {
          "output_type": "stream",
          "name": "stdout",
          "text": [
            "Result=  9 9\n"
          ]
        }
      ],
      "source": [
        "#3 swapping of two numbers\n",
        "x=5\n",
        "y=9\n",
        "temp=x\n",
        "x=y\n",
        "temp=y\n",
        "print(\"Result= \",x,y)\n"
      ]
    },
    {
      "cell_type": "code",
      "source": [
        "##greatest of three numbers\n",
        "a=5\n",
        "b=3\n",
        "c=8\n",
        "if a>b and a>c:\n",
        "   print(a)\n",
        "elif b>c and b>a:\n",
        "   print(b)\n",
        "else:\n",
        "   print(c)\n"
      ],
      "metadata": {
        "colab": {
          "base_uri": "https://localhost:8080/"
        },
        "id": "u8EYI1iRifnM",
        "outputId": "6dacf9ca-e56d-42ad-c7f2-b3ad1da508ed"
      },
      "execution_count": 5,
      "outputs": [
        {
          "output_type": "stream",
          "name": "stdout",
          "text": [
            "8\n"
          ]
        }
      ]
    },
    {
      "cell_type": "code",
      "source": [
        "##square rot of number\n",
        "a=4\n",
        "print(a**0.5)"
      ],
      "metadata": {
        "colab": {
          "base_uri": "https://localhost:8080/"
        },
        "id": "F2uI58SIjqGP",
        "outputId": "eb3b10f2-5dd3-409a-e36b-d151febd7613"
      },
      "execution_count": 6,
      "outputs": [
        {
          "output_type": "stream",
          "name": "stdout",
          "text": [
            "2.0\n"
          ]
        }
      ]
    },
    {
      "cell_type": "code",
      "source": [
        "## \n",
        "rainbow=['red','orange','yellow','green']\n",
        "rainbow.insert(3,\"black\" )\n",
        "print('rainbow =',rainbow)\n",
        "\n"
      ],
      "metadata": {
        "colab": {
          "base_uri": "https://localhost:8080/"
        },
        "id": "gchFKxl1j370",
        "outputId": "c847be2c-7c02-4eeb-d340-1cd7724b2e3d"
      },
      "execution_count": 15,
      "outputs": [
        {
          "output_type": "stream",
          "name": "stdout",
          "text": [
            "rainbow = ['red', 'orange', 'yellow', 'black', 'green']\n"
          ]
        }
      ]
    }
  ]
}