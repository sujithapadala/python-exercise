{
  "nbformat": 4,
  "nbformat_minor": 0,
  "metadata": {
    "colab": {
      "name": "tuple 07-04-2022",
      "provenance": [],
      "authorship_tag": "ABX9TyMJ3aD+BfEGHyqzM5lBLO7m",
      "include_colab_link": true
    },
    "kernelspec": {
      "name": "python3",
      "display_name": "Python 3"
    },
    "language_info": {
      "name": "python"
    }
  },
  "cells": [
    {
      "cell_type": "markdown",
      "metadata": {
        "id": "view-in-github",
        "colab_type": "text"
      },
      "source": [
        "<a href=\"https://colab.research.google.com/github/sujithapadala/python-exercise/blob/main/tuple_07_04_2022.ipynb\" target=\"_parent\"><img src=\"https://colab.research.google.com/assets/colab-badge.svg\" alt=\"Open In Colab\"/></a>"
      ]
    },
    {
      "cell_type": "code",
      "execution_count": null,
      "metadata": {
        "colab": {
          "base_uri": "https://localhost:8080/"
        },
        "id": "Q42k2zM2jeS2",
        "outputId": "18aaf93e-f6d3-4572-b94c-fa82b9631942"
      },
      "outputs": [
        {
          "output_type": "stream",
          "name": "stdout",
          "text": [
            "6\n"
          ]
        }
      ],
      "source": [
        ""
      ]
    },
    {
      "cell_type": "code",
      "source": [
        "#in tuple\n",
        "sujitha = (\"padala\",)\n",
        "print(type(sujitha))"
      ],
      "metadata": {
        "colab": {
          "base_uri": "https://localhost:8080/"
        },
        "id": "RQzAcaCDm02R",
        "outputId": "9f012d87-969b-4c10-f3b5-20c879fccab1"
      },
      "execution_count": null,
      "outputs": [
        {
          "output_type": "stream",
          "name": "stdout",
          "text": [
            "<class 'tuple'>\n"
          ]
        }
      ]
    },
    {
      "cell_type": "code",
      "source": [
        "# not a tuple\n",
        "b = (\"apple\")\n",
        "print(type(b))"
      ],
      "metadata": {
        "colab": {
          "base_uri": "https://localhost:8080/"
        },
        "id": "k1qz0w7knqE7",
        "outputId": "fcae0867-8b32-4a12-f380-4fe40c430fb8"
      },
      "execution_count": null,
      "outputs": [
        {
          "output_type": "stream",
          "name": "stdout",
          "text": [
            "<class 'str'>\n"
          ]
        }
      ]
    },
    {
      "cell_type": "code",
      "source": [
        "#tuple data types\n",
        "a = (\"appkle\",\"banana\",\"guava\")\n",
        "b = (5,7,8,5)\n",
        "c = (\"true\",\"false\",\"false\")\n",
        "print(a)\n",
        "print(b)\n",
        "print(c)"
      ],
      "metadata": {
        "colab": {
          "base_uri": "https://localhost:8080/"
        },
        "id": "2w5O2HdyoMck",
        "outputId": "ca76ed10-5b0b-4595-ff08-9bcc439c5a4c"
      },
      "execution_count": 11,
      "outputs": [
        {
          "output_type": "stream",
          "name": "stdout",
          "text": [
            "('appkle', 'banana', 'guava')\n",
            "(5, 7, 8, 5)\n",
            "('true', 'false', 'false')\n"
          ]
        }
      ]
    },
    {
      "cell_type": "code",
      "source": [
        "#tuple contains different dATATYPES\n",
        "gitam = (\"rose\",5,\"true\",8.5)\n",
        "print(gitam)"
      ],
      "metadata": {
        "colab": {
          "base_uri": "https://localhost:8080/"
        },
        "id": "gUu2l534qmxO",
        "outputId": "4159a5a2-18ba-405e-b460-1c4126e60b6f"
      },
      "execution_count": 12,
      "outputs": [
        {
          "output_type": "stream",
          "name": "stdout",
          "text": [
            "('rose', 5, 'true', 8.5)\n"
          ]
        }
      ]
    },
    {
      "cell_type": "code",
      "source": [
        "# tuple duplicates\n",
        "vijag = (\"maddhilapalem\",\"rushikonda\",\"rk beach\",\"rushikonda\")\n",
        "print(vijag)"
      ],
      "metadata": {
        "colab": {
          "base_uri": "https://localhost:8080/"
        },
        "id": "dC6GM1qXrd3n",
        "outputId": "21efea4f-0a50-4450-ff04-3af5e149a438"
      },
      "execution_count": 13,
      "outputs": [
        {
          "output_type": "stream",
          "name": "stdout",
          "text": [
            "('maddhilapalem', 'rushikonda', 'rk beach', 'rushikonda')\n"
          ]
        }
      ]
    },
    {
      "cell_type": "code",
      "source": [
        "#tuple constructor\n",
        "hostel = tuple((\"koikila\",\"nirmala\",\"aditya\",\"dds\"))\n",
        "print(hostel)\n"
      ],
      "metadata": {
        "colab": {
          "base_uri": "https://localhost:8080/"
        },
        "id": "fHme40_KsKoK",
        "outputId": "3e12329a-acce-41fd-c936-59b9514e0261"
      },
      "execution_count": 15,
      "outputs": [
        {
          "output_type": "stream",
          "name": "stdout",
          "text": [
            "('koikila', 'nirmala', 'aditya', 'dds')\n"
          ]
        }
      ]
    },
    {
      "cell_type": "code",
      "source": [
        "#acces items in tuple by index number\n",
        "a = (\"mobile\",\"computer\",\"laptop\",\"charger\")\n",
        "print(a[2])"
      ],
      "metadata": {
        "colab": {
          "base_uri": "https://localhost:8080/"
        },
        "id": "DWnUnUpetR0H",
        "outputId": "e9d5925c-fe21-461f-b5e5-599ee7b325ae"
      },
      "execution_count": 17,
      "outputs": [
        {
          "output_type": "stream",
          "name": "stdout",
          "text": [
            "laptop\n"
          ]
        }
      ]
    },
    {
      "cell_type": "code",
      "source": [
        "a = (\"mobile\",\"computer\",\"laptop\",\"charger\",\"displaY\",\"SENSOR\")\n",
        "print(a[2:5])\n",
        "print(a[:3])\n",
        "print(a[3:])\n",
        "print(a[-4:-1])"
      ],
      "metadata": {
        "colab": {
          "base_uri": "https://localhost:8080/"
        },
        "id": "o-0wVW45uB1l",
        "outputId": "69c91a18-24a7-4c5a-9d12-5a727373dd43"
      },
      "execution_count": 22,
      "outputs": [
        {
          "output_type": "stream",
          "name": "stdout",
          "text": [
            "('laptop', 'charger', 'displaY')\n",
            "('mobile', 'computer', 'laptop')\n",
            "('charger', 'displaY', 'SENSOR')\n",
            "('laptop', 'charger', 'displaY')\n"
          ]
        }
      ]
    },
    {
      "cell_type": "code",
      "source": [
        "#check item exists in the list\n",
        "rrr = (\"charan\",\"ntr\",\"rajamouli\",\"aliabatt\")\n",
        "if 'ntr' in rrr:\n",
        " print(\"yes, 'ntr' is in the rrr\")"
      ],
      "metadata": {
        "colab": {
          "base_uri": "https://localhost:8080/"
        },
        "id": "vki8Assuwg14",
        "outputId": "5d8e8b15-6cd6-41b9-fd6e-bccc1c286394"
      },
      "execution_count": 33,
      "outputs": [
        {
          "output_type": "stream",
          "name": "stdout",
          "text": [
            "yes, 'ntr' is in the rrr\n"
          ]
        }
      ]
    },
    {
      "cell_type": "code",
      "source": [
        ""
      ],
      "metadata": {
        "id": "aa6-YECkttKY"
      },
      "execution_count": null,
      "outputs": []
    }
  ]
}